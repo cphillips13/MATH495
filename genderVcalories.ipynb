{
 "cells": [],
 "metadata": {
  "kernelspec": {
   "display_name": "base",
   "language": "python",
   "name": "python3"
  },
  "language_info": {
   "codemirror_mode": {
    "name": "ipython",
    "version": 3
   },
   "file_extension": ".py",
   "mimetype": "text/x-python",
   "name": "python",
   "nbconvert_exporter": "python",
   "pygments_lexer": "ipython3",
   "version": "3.9.12"
  },
  "orig_nbformat": 4,
  "vscode": {
   "interpreter": {
    "hash": "3596fb35919486a4b44490f55885ccac4412bec49ac8c5dc965e98ad8d54d9b8"
   }
  }
 },
 "nbformat": 4,
 "nbformat_minor": 2
}
